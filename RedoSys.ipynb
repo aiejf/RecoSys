{
 "cells": [
  {
   "cell_type": "code",
   "execution_count": 2,
   "metadata": {},
   "outputs": [
    {
     "name": "stderr",
     "output_type": "stream",
     "text": [
      "c:\\Users\\j0a02eu\\AppData\\Local\\Continuum\\anaconda3\\lib\\site-packages\\statsmodels\\tools\\_testing.py:19: FutureWarning: pandas.util.testing is deprecated. Use the functions in the public API at pandas.testing instead.\n",
      "  import pandas.util.testing as tm\n"
     ]
    }
   ],
   "source": [
    "import numpy as np # linear algebra\n",
    "import pandas as pd # data processing, CSV file I/O (e.g. pd.read_csv)\n",
    "import os\n",
    "from IPython.core.interactiveshell import InteractiveShell\n",
    "InteractiveShell.ast_node_interactivity = \"all\"\n",
    "import math\n",
    "import json\n",
    "import time\n",
    "import matplotlib.pyplot as plt\n",
    "import seaborn as sns\n",
    "from sklearn.metrics.pairwise import cosine_similarity\n",
    "from sklearn.model_selection import train_test_split\n",
    "from sklearn.neighbors import NearestNeighbors\n",
    "# from sklearn.externals import joblib\n",
    "import scipy.sparse\n",
    "from scipy.sparse import csr_matrix\n",
    "from scipy.sparse.linalg import svds\n",
    "import warnings; warnings.simplefilter('ignore')\n",
    "%matplotlib inline"
   ]
  },
  {
   "cell_type": "markdown",
   "metadata": {},
   "source": [
    "Load the data "
   ]
  },
  {
   "cell_type": "code",
   "execution_count": 3,
   "metadata": {},
   "outputs": [],
   "source": [
    "electronics_data=pd.read_csv(\"ratings_Electronics (1).csv\",names=['userId', 'productId','Rating','timestamp'])"
   ]
  },
  {
   "cell_type": "code",
   "execution_count": 4,
   "metadata": {},
   "outputs": [
    {
     "data": {
      "text/html": [
       "<div>\n",
       "<style scoped>\n",
       "    .dataframe tbody tr th:only-of-type {\n",
       "        vertical-align: middle;\n",
       "    }\n",
       "\n",
       "    .dataframe tbody tr th {\n",
       "        vertical-align: top;\n",
       "    }\n",
       "\n",
       "    .dataframe thead th {\n",
       "        text-align: right;\n",
       "    }\n",
       "</style>\n",
       "<table border=\"1\" class=\"dataframe\">\n",
       "  <thead>\n",
       "    <tr style=\"text-align: right;\">\n",
       "      <th></th>\n",
       "      <th>userId</th>\n",
       "      <th>productId</th>\n",
       "      <th>Rating</th>\n",
       "      <th>timestamp</th>\n",
       "    </tr>\n",
       "  </thead>\n",
       "  <tbody>\n",
       "    <tr>\n",
       "      <th>0</th>\n",
       "      <td>AKM1MP6P0OYPR</td>\n",
       "      <td>0132793040</td>\n",
       "      <td>5.0</td>\n",
       "      <td>1365811200</td>\n",
       "    </tr>\n",
       "    <tr>\n",
       "      <th>1</th>\n",
       "      <td>A2CX7LUOHB2NDG</td>\n",
       "      <td>0321732944</td>\n",
       "      <td>5.0</td>\n",
       "      <td>1341100800</td>\n",
       "    </tr>\n",
       "    <tr>\n",
       "      <th>2</th>\n",
       "      <td>A2NWSAGRHCP8N5</td>\n",
       "      <td>0439886341</td>\n",
       "      <td>1.0</td>\n",
       "      <td>1367193600</td>\n",
       "    </tr>\n",
       "  </tbody>\n",
       "</table>\n",
       "</div>"
      ],
      "text/plain": [
       "           userId   productId  Rating   timestamp\n",
       "0   AKM1MP6P0OYPR  0132793040     5.0  1365811200\n",
       "1  A2CX7LUOHB2NDG  0321732944     5.0  1341100800\n",
       "2  A2NWSAGRHCP8N5  0439886341     1.0  1367193600"
      ]
     },
     "execution_count": 4,
     "metadata": {},
     "output_type": "execute_result"
    }
   ],
   "source": [
    "electronics_data.head(3)"
   ]
  },
  {
   "cell_type": "code",
   "execution_count": 5,
   "metadata": {},
   "outputs": [
    {
     "data": {
      "text/plain": [
       "(7824482, 4)"
      ]
     },
     "execution_count": 5,
     "metadata": {},
     "output_type": "execute_result"
    }
   ],
   "source": [
    "electronics_data.shape"
   ]
  },
  {
   "cell_type": "code",
   "execution_count": 6,
   "metadata": {},
   "outputs": [],
   "source": [
    "#Taking subset of the dataset\n",
    "electronics_data=electronics_data.iloc[:1048576,0:]"
   ]
  },
  {
   "cell_type": "code",
   "execution_count": 7,
   "metadata": {},
   "outputs": [
    {
     "data": {
      "text/plain": [
       "userId        object\n",
       "productId     object\n",
       "Rating       float64\n",
       "timestamp      int64\n",
       "dtype: object"
      ]
     },
     "execution_count": 7,
     "metadata": {},
     "output_type": "execute_result"
    }
   ],
   "source": [
    "#Check the datatypes\n",
    "electronics_data.dtypes"
   ]
  },
  {
   "cell_type": "code",
   "execution_count": 8,
   "metadata": {},
   "outputs": [
    {
     "data": {
      "text/plain": [
       "count    1.048576e+06\n",
       "mean     3.973380e+00\n",
       "std      1.399329e+00\n",
       "min      1.000000e+00\n",
       "25%      3.000000e+00\n",
       "50%      5.000000e+00\n",
       "75%      5.000000e+00\n",
       "max      5.000000e+00\n",
       "Name: Rating, dtype: float64"
      ]
     },
     "execution_count": 8,
     "metadata": {},
     "output_type": "execute_result"
    }
   ],
   "source": [
    "#Five point summary \n",
    "\n",
    "electronics_data.describe()['Rating'].T"
   ]
  },
  {
   "cell_type": "code",
   "execution_count": 9,
   "metadata": {},
   "outputs": [
    {
     "data": {
      "text/plain": [
       "count    1.048576e+06\n",
       "mean     3.973380e+00\n",
       "std      1.399329e+00\n",
       "min      1.000000e+00\n",
       "25%      3.000000e+00\n",
       "50%      5.000000e+00\n",
       "75%      5.000000e+00\n",
       "max      5.000000e+00\n",
       "Name: Rating, dtype: float64"
      ]
     },
     "execution_count": 9,
     "metadata": {},
     "output_type": "execute_result"
    }
   ],
   "source": [
    "#Five point summary \n",
    "\n",
    "electronics_data.describe()['Rating'].T"
   ]
  },
  {
   "cell_type": "code",
   "execution_count": 10,
   "metadata": {},
   "outputs": [
    {
     "name": "stdout",
     "output_type": "stream",
     "text": [
      "Minimum rating is: 1\n",
      "Maximum rating is: 5\n"
     ]
    }
   ],
   "source": [
    "#Find the minimum and maximum ratings\n",
    "print('Minimum rating is: %d' %(electronics_data.Rating.min()))\n",
    "print('Maximum rating is: %d' %(electronics_data.Rating.max()))"
   ]
  },
  {
   "cell_type": "code",
   "execution_count": 11,
   "metadata": {},
   "outputs": [
    {
     "name": "stdout",
     "output_type": "stream",
     "text": [
      "Number of missing values across columns: \n",
      " userId       0\n",
      "productId    0\n",
      "Rating       0\n",
      "timestamp    0\n",
      "dtype: int64\n"
     ]
    }
   ],
   "source": [
    "#Check for missing values\n",
    "print('Number of missing values across columns: \\n',electronics_data.isnull().sum())"
   ]
  },
  {
   "cell_type": "code",
   "execution_count": 12,
   "metadata": {},
   "outputs": [
    {
     "data": {
      "text/plain": [
       "<seaborn.axisgrid.FacetGrid at 0x11f8012f148>"
      ]
     },
     "execution_count": 12,
     "metadata": {},
     "output_type": "execute_result"
    },
    {
     "data": {
      "image/png": "[encoded data removed]",
      "text/plain": [
       "<Figure size 720x360 with 1 Axes>"
      ]
     },
     "metadata": {},
     "output_type": "display_data"
    }
   ],
   "source": [
    "# Check the distribution of the rating\n",
    "with sns.axes_style('white'):\n",
    "    g = sns.factorplot(\"Rating\", data=electronics_data, aspect=2.0,kind='count')\n",
    "    g.set_ylabels(\"Total number of ratings\")"
   ]
  },
  {
   "cell_type": "code",
   "execution_count": 13,
   "metadata": {},
   "outputs": [
    {
     "name": "stdout",
     "output_type": "stream",
     "text": [
      "Total data \n",
      "--------------------------------------------------\n",
      "\n",
      "Total no of ratings : 1048576\n",
      "Total No of Users   : 786330\n",
      "Total No of products  : 61894\n"
     ]
    }
   ],
   "source": [
    "print(\"Total data \")\n",
    "print(\"-\"*50)\n",
    "print(\"\\nTotal no of ratings :\",electronics_data.shape[0])\n",
    "print(\"Total No of Users   :\", len(np.unique(electronics_data.userId)))\n",
    "print(\"Total No of products  :\", len(np.unique(electronics_data.productId)))"
   ]
  },
  {
   "cell_type": "code",
   "execution_count": 14,
   "metadata": {},
   "outputs": [],
   "source": [
    "#Dropping the Timestamp column\n",
    "\n",
    "electronics_data.drop(['timestamp'], axis=1,inplace=True)"
   ]
  },
  {
   "cell_type": "code",
   "execution_count": 15,
   "metadata": {},
   "outputs": [
    {
     "data": {
      "text/plain": [
       "userId\n",
       "A5JLAU2ARJ0BO     412\n",
       "A231WM2Z2JL0U3    249\n",
       "A25HBO5V8S8SEA    164\n",
       "A6FIAB28IS79      146\n",
       "AT6CZDCP4TRGA     128\n",
       "Name: Rating, dtype: int64"
      ]
     },
     "execution_count": 15,
     "metadata": {},
     "output_type": "execute_result"
    }
   ],
   "source": [
    "#Analysis of rating given by the user \n",
    "\n",
    "no_of_rated_products_per_user = electronics_data.groupby(by='userId')['Rating'].count().sort_values(ascending=False)\n",
    "\n",
    "no_of_rated_products_per_user.head()"
   ]
  },
  {
   "cell_type": "code",
   "execution_count": 16,
   "metadata": {},
   "outputs": [
    {
     "data": {
      "text/plain": [
       "count    786330.000000\n",
       "mean          1.333506\n",
       "std           1.385612\n",
       "min           1.000000\n",
       "25%           1.000000\n",
       "50%           1.000000\n",
       "75%           1.000000\n",
       "max         412.000000\n",
       "Name: Rating, dtype: float64"
      ]
     },
     "execution_count": 16,
     "metadata": {},
     "output_type": "execute_result"
    }
   ],
   "source": [
    "no_of_rated_products_per_user.describe()"
   ]
  },
  {
   "cell_type": "code",
   "execution_count": 17,
   "metadata": {},
   "outputs": [],
   "source": [
    "quantiles = no_of_rated_products_per_user.quantile(np.arange(0,1.01,0.01), interpolation='higher')"
   ]
  },
  {
   "cell_type": "code",
   "execution_count": 18,
   "metadata": {},
   "outputs": [
    {
     "data": {
      "text/plain": [
       "0.00      1\n",
       "0.01      1\n",
       "0.02      1\n",
       "0.03      1\n",
       "0.04      1\n",
       "       ... \n",
       "0.96      3\n",
       "0.97      4\n",
       "0.98      4\n",
       "0.99      6\n",
       "1.00    412\n",
       "Name: Rating, Length: 101, dtype: int64"
      ]
     },
     "execution_count": 18,
     "metadata": {},
     "output_type": "execute_result"
    }
   ],
   "source": [
    "quantiles"
   ]
  },
  {
   "cell_type": "code",
   "execution_count": 19,
   "metadata": {},
   "outputs": [
    {
     "data": {
      "text/plain": [
       "<Figure size 720x720 with 0 Axes>"
      ]
     },
     "execution_count": 19,
     "metadata": {},
     "output_type": "execute_result"
    },
    {
     "data": {
      "text/plain": [
       "Text(0.5, 1.0, 'Quantiles and their Values')"
      ]
     },
     "execution_count": 19,
     "metadata": {},
     "output_type": "execute_result"
    },
    {
     "data": {
      "text/plain": [
       "<matplotlib.axes._subplots.AxesSubplot at 0x11f87615708>"
      ]
     },
     "execution_count": 19,
     "metadata": {},
     "output_type": "execute_result"
    },
    {
     "data": {
      "text/plain": [
       "<matplotlib.collections.PathCollection at 0x11f8108b308>"
      ]
     },
     "execution_count": 19,
     "metadata": {},
     "output_type": "execute_result"
    },
    {
     "data": {
      "text/plain": [
       "<matplotlib.collections.PathCollection at 0x11f81087248>"
      ]
     },
     "execution_count": 19,
     "metadata": {},
     "output_type": "execute_result"
    },
    {
     "data": {
      "text/plain": [
       "Text(0, 0.5, 'No of ratings by user')"
      ]
     },
     "execution_count": 19,
     "metadata": {},
     "output_type": "execute_result"
    },
    {
     "data": {
      "text/plain": [
       "Text(0.5, 0, 'Value at the quantile')"
      ]
     },
     "execution_count": 19,
     "metadata": {},
     "output_type": "execute_result"
    },
    {
     "data": {
      "text/plain": [
       "<matplotlib.legend.Legend at 0x11f8108d948>"
      ]
     },
     "execution_count": 19,
     "metadata": {},
     "output_type": "execute_result"
    },
    {
     "data": {
      "image/png": "[encoded data removed]",
      "text/plain": [
       "<Figure size 720x720 with 1 Axes>"
      ]
     },
     "metadata": {
      "needs_background": "light"
     },
     "output_type": "display_data"
    }
   ],
   "source": [
    "plt.figure(figsize=(10,10))\n",
    "plt.title(\"Quantiles and their Values\")\n",
    "quantiles.plot()\n",
    "# quantiles with 0.05 difference\n",
    "plt.scatter(x=quantiles.index[::5], y=quantiles.values[::5], c='orange', label=\"quantiles with 0.05 intervals\")\n",
    "# quantiles with 0.25 difference\n",
    "plt.scatter(x=quantiles.index[::25], y=quantiles.values[::25], c='m', label = \"quantiles with 0.25 intervals\")\n",
    "plt.ylabel('No of ratings by user')\n",
    "plt.xlabel('Value at the quantile')\n",
    "plt.legend(loc='best')\n",
    "plt.show()"
   ]
  },
  {
   "cell_type": "code",
   "execution_count": 20,
   "metadata": {},
   "outputs": [
    {
     "name": "stdout",
     "output_type": "stream",
     "text": [
      "\n",
      " No of rated product more than 50 per user : 38\n",
      "\n"
     ]
    }
   ],
   "source": [
    "print('\\n No of rated product more than 50 per user : {}\\n'.format(sum(no_of_rated_products_per_user >= 50)) )"
   ]
  },
  {
   "cell_type": "markdown",
   "metadata": {},
   "source": [
    "Popularity Based Recommendation"
   ]
  },
  {
   "cell_type": "code",
   "execution_count": 21,
   "metadata": {},
   "outputs": [],
   "source": [
    "#Getting the new dataframe which contains users who has given 50 or more ratings\n",
    "\n",
    "new_df=electronics_data.groupby(\"productId\").filter(lambda x:x['Rating'].count() >=50)"
   ]
  },
  {
   "cell_type": "code",
   "execution_count": 22,
   "metadata": {},
   "outputs": [
    {
     "data": {
      "text/html": [
       "<div>\n",
       "<style scoped>\n",
       "    .dataframe tbody tr th:only-of-type {\n",
       "        vertical-align: middle;\n",
       "    }\n",
       "\n",
       "    .dataframe tbody tr th {\n",
       "        vertical-align: top;\n",
       "    }\n",
       "\n",
       "    .dataframe thead th {\n",
       "        text-align: right;\n",
       "    }\n",
       "</style>\n",
       "<table border=\"1\" class=\"dataframe\">\n",
       "  <thead>\n",
       "    <tr style=\"text-align: right;\">\n",
       "      <th></th>\n",
       "      <th>userId</th>\n",
       "      <th>productId</th>\n",
       "      <th>Rating</th>\n",
       "    </tr>\n",
       "  </thead>\n",
       "  <tbody>\n",
       "    <tr>\n",
       "      <th>183</th>\n",
       "      <td>A1BKC6B7YHYTVV</td>\n",
       "      <td>0972683275</td>\n",
       "      <td>4.0</td>\n",
       "    </tr>\n",
       "    <tr>\n",
       "      <th>184</th>\n",
       "      <td>AWVFSIB42LHKJ</td>\n",
       "      <td>0972683275</td>\n",
       "      <td>4.0</td>\n",
       "    </tr>\n",
       "    <tr>\n",
       "      <th>185</th>\n",
       "      <td>A36MQBNADRH8YY</td>\n",
       "      <td>0972683275</td>\n",
       "      <td>5.0</td>\n",
       "    </tr>\n",
       "    <tr>\n",
       "      <th>186</th>\n",
       "      <td>A3SRXMPLAEZ6DP</td>\n",
       "      <td>0972683275</td>\n",
       "      <td>4.0</td>\n",
       "    </tr>\n",
       "    <tr>\n",
       "      <th>187</th>\n",
       "      <td>A20XXTXWF2TCPY</td>\n",
       "      <td>0972683275</td>\n",
       "      <td>5.0</td>\n",
       "    </tr>\n",
       "    <tr>\n",
       "      <th>...</th>\n",
       "      <td>...</td>\n",
       "      <td>...</td>\n",
       "      <td>...</td>\n",
       "    </tr>\n",
       "    <tr>\n",
       "      <th>1048571</th>\n",
       "      <td>A1H16CBCNEL4G3</td>\n",
       "      <td>B000IF51UQ</td>\n",
       "      <td>5.0</td>\n",
       "    </tr>\n",
       "    <tr>\n",
       "      <th>1048572</th>\n",
       "      <td>A1C2OANTC49AQI</td>\n",
       "      <td>B000IF51UQ</td>\n",
       "      <td>5.0</td>\n",
       "    </tr>\n",
       "    <tr>\n",
       "      <th>1048573</th>\n",
       "      <td>A2JL0387FDDFS</td>\n",
       "      <td>B000IF51UQ</td>\n",
       "      <td>5.0</td>\n",
       "    </tr>\n",
       "    <tr>\n",
       "      <th>1048574</th>\n",
       "      <td>A2KIYE5RF0OEMY</td>\n",
       "      <td>B000IF51UQ</td>\n",
       "      <td>4.0</td>\n",
       "    </tr>\n",
       "    <tr>\n",
       "      <th>1048575</th>\n",
       "      <td>A1G9Q5UJ5Y7DES</td>\n",
       "      <td>B000IF51UQ</td>\n",
       "      <td>2.0</td>\n",
       "    </tr>\n",
       "  </tbody>\n",
       "</table>\n",
       "<p>677947 rows × 3 columns</p>\n",
       "</div>"
      ],
      "text/plain": [
       "                 userId   productId  Rating\n",
       "183      A1BKC6B7YHYTVV  0972683275     4.0\n",
       "184       AWVFSIB42LHKJ  0972683275     4.0\n",
       "185      A36MQBNADRH8YY  0972683275     5.0\n",
       "186      A3SRXMPLAEZ6DP  0972683275     4.0\n",
       "187      A20XXTXWF2TCPY  0972683275     5.0\n",
       "...                 ...         ...     ...\n",
       "1048571  A1H16CBCNEL4G3  B000IF51UQ     5.0\n",
       "1048572  A1C2OANTC49AQI  B000IF51UQ     5.0\n",
       "1048573   A2JL0387FDDFS  B000IF51UQ     5.0\n",
       "1048574  A2KIYE5RF0OEMY  B000IF51UQ     4.0\n",
       "1048575  A1G9Q5UJ5Y7DES  B000IF51UQ     2.0\n",
       "\n",
       "[677947 rows x 3 columns]"
      ]
     },
     "execution_count": 22,
     "metadata": {},
     "output_type": "execute_result"
    }
   ],
   "source": [
    "new_df\n",
    "# f=electronics_data[electronics_data['userId']=='A1BKC6B7YHYTVV']\n",
    "# f\n",
    "# =='A1BKC6B7YHYTVV']"
   ]
  },
  {
   "cell_type": "code",
   "execution_count": 23,
   "metadata": {},
   "outputs": [
    {
     "data": {
      "text/plain": [
       "[<matplotlib.lines.Line2D at 0x11f80290f48>]"
      ]
     },
     "execution_count": 23,
     "metadata": {},
     "output_type": "execute_result"
    },
    {
     "data": {
      "text/plain": [
       "Text(0.5, 1.0, '# RATINGS per Product')"
      ]
     },
     "execution_count": 23,
     "metadata": {},
     "output_type": "execute_result"
    },
    {
     "data": {
      "text/plain": [
       "Text(0.5, 0, 'Product')"
      ]
     },
     "execution_count": 23,
     "metadata": {},
     "output_type": "execute_result"
    },
    {
     "data": {
      "text/plain": [
       "Text(0, 0.5, 'No of ratings per product')"
      ]
     },
     "execution_count": 23,
     "metadata": {},
     "output_type": "execute_result"
    },
    {
     "data": {
      "text/plain": [
       "[]"
      ]
     },
     "execution_count": 23,
     "metadata": {},
     "output_type": "execute_result"
    },
    {
     "data": {
      "image/png": "[encoded data removed]",
      "text/plain": [
       "<Figure size 576x288 with 1 Axes>"
      ]
     },
     "metadata": {
      "needs_background": "light"
     },
     "output_type": "display_data"
    }
   ],
   "source": [
    "no_of_ratings_per_product = new_df.groupby(by='productId')['Rating'].count().sort_values(ascending=False)\n",
    "\n",
    "fig = plt.figure(figsize=plt.figaspect(.5))\n",
    "ax = plt.gca()\n",
    "plt.plot(no_of_ratings_per_product.values)\n",
    "plt.title('# RATINGS per Product')\n",
    "plt.xlabel('Product')\n",
    "plt.ylabel('No of ratings per product')\n",
    "ax.set_xticklabels([])\n",
    "\n",
    "plt.show()"
   ]
  },
  {
   "cell_type": "code",
   "execution_count": 24,
   "metadata": {},
   "outputs": [
    {
     "data": {
      "text/plain": [
       "productId\n",
       "0972683275    4.470980\n",
       "1400501466    3.560000\n",
       "1400501520    4.243902\n",
       "1400501776    3.884892\n",
       "1400532620    3.684211\n",
       "Name: Rating, dtype: float64"
      ]
     },
     "execution_count": 24,
     "metadata": {},
     "output_type": "execute_result"
    }
   ],
   "source": [
    "#Average rating of the product \n",
    "\n",
    "new_df.groupby('productId')['Rating'].mean().head()"
   ]
  },
  {
   "cell_type": "code",
   "execution_count": 25,
   "metadata": {},
   "outputs": [
    {
     "data": {
      "text/plain": [
       "productId\n",
       "B0000DYV9H    4.947368\n",
       "B000053HC5    4.945783\n",
       "B00009R96C    4.885714\n",
       "B00005LE76    4.879310\n",
       "B000I1X3W8    4.869565\n",
       "Name: Rating, dtype: float64"
      ]
     },
     "execution_count": 25,
     "metadata": {},
     "output_type": "execute_result"
    }
   ],
   "source": [
    "new_df.groupby('productId')['Rating'].mean().sort_values(ascending=False).head()"
   ]
  },
  {
   "cell_type": "code",
   "execution_count": 26,
   "metadata": {},
   "outputs": [
    {
     "data": {
      "text/plain": [
       "productId\n",
       "B0002L5R78    9487\n",
       "B0001FTVEK    5345\n",
       "B000I68BD4    4903\n",
       "B000BQ7GW8    4275\n",
       "B00007E7JU    3523\n",
       "Name: Rating, dtype: int64"
      ]
     },
     "execution_count": 26,
     "metadata": {},
     "output_type": "execute_result"
    }
   ],
   "source": [
    "#Total no of rating for product\n",
    "\n",
    "new_df.groupby('productId')['Rating'].count().sort_values(ascending=False).head()"
   ]
  },
  {
   "cell_type": "code",
   "execution_count": 27,
   "metadata": {},
   "outputs": [
    {
     "data": {
      "text/html": [
       "<div>\n",
       "<style scoped>\n",
       "    .dataframe tbody tr th:only-of-type {\n",
       "        vertical-align: middle;\n",
       "    }\n",
       "\n",
       "    .dataframe tbody tr th {\n",
       "        vertical-align: top;\n",
       "    }\n",
       "\n",
       "    .dataframe thead th {\n",
       "        text-align: right;\n",
       "    }\n",
       "</style>\n",
       "<table border=\"1\" class=\"dataframe\">\n",
       "  <thead>\n",
       "    <tr style=\"text-align: right;\">\n",
       "      <th></th>\n",
       "      <th>Rating</th>\n",
       "    </tr>\n",
       "    <tr>\n",
       "      <th>productId</th>\n",
       "      <th></th>\n",
       "    </tr>\n",
       "  </thead>\n",
       "  <tbody>\n",
       "    <tr>\n",
       "      <th>0972683275</th>\n",
       "      <td>4.470980</td>\n",
       "    </tr>\n",
       "    <tr>\n",
       "      <th>1400501466</th>\n",
       "      <td>3.560000</td>\n",
       "    </tr>\n",
       "    <tr>\n",
       "      <th>1400501520</th>\n",
       "      <td>4.243902</td>\n",
       "    </tr>\n",
       "    <tr>\n",
       "      <th>1400501776</th>\n",
       "      <td>3.884892</td>\n",
       "    </tr>\n",
       "    <tr>\n",
       "      <th>1400532620</th>\n",
       "      <td>3.684211</td>\n",
       "    </tr>\n",
       "    <tr>\n",
       "      <th>...</th>\n",
       "      <td>...</td>\n",
       "    </tr>\n",
       "    <tr>\n",
       "      <th>B000IEN8QQ</th>\n",
       "      <td>4.531250</td>\n",
       "    </tr>\n",
       "    <tr>\n",
       "      <th>B000IEO964</th>\n",
       "      <td>4.533333</td>\n",
       "    </tr>\n",
       "    <tr>\n",
       "      <th>B000IF4788</th>\n",
       "      <td>4.189810</td>\n",
       "    </tr>\n",
       "    <tr>\n",
       "      <th>B000IF4TPY</th>\n",
       "      <td>4.211538</td>\n",
       "    </tr>\n",
       "    <tr>\n",
       "      <th>B000IF51UQ</th>\n",
       "      <td>3.969697</td>\n",
       "    </tr>\n",
       "  </tbody>\n",
       "</table>\n",
       "<p>3813 rows × 1 columns</p>\n",
       "</div>"
      ],
      "text/plain": [
       "              Rating\n",
       "productId           \n",
       "0972683275  4.470980\n",
       "1400501466  3.560000\n",
       "1400501520  4.243902\n",
       "1400501776  3.884892\n",
       "1400532620  3.684211\n",
       "...              ...\n",
       "B000IEN8QQ  4.531250\n",
       "B000IEO964  4.533333\n",
       "B000IF4788  4.189810\n",
       "B000IF4TPY  4.211538\n",
       "B000IF51UQ  3.969697\n",
       "\n",
       "[3813 rows x 1 columns]"
      ]
     },
     "execution_count": 27,
     "metadata": {},
     "output_type": "execute_result"
    }
   ],
   "source": [
    "ratings_mean_count = pd.DataFrame(new_df.groupby('productId')['Rating'].mean())\n",
    "ratings_mean_count"
   ]
  },
  {
   "cell_type": "code",
   "execution_count": 28,
   "metadata": {},
   "outputs": [],
   "source": [
    "ratings_mean_count['rating_counts'] = pd.DataFrame(new_df.groupby('productId')['Rating'].count())"
   ]
  },
  {
   "cell_type": "code",
   "execution_count": 29,
   "metadata": {},
   "outputs": [
    {
     "data": {
      "text/html": [
       "<div>\n",
       "<style scoped>\n",
       "    .dataframe tbody tr th:only-of-type {\n",
       "        vertical-align: middle;\n",
       "    }\n",
       "\n",
       "    .dataframe tbody tr th {\n",
       "        vertical-align: top;\n",
       "    }\n",
       "\n",
       "    .dataframe thead th {\n",
       "        text-align: right;\n",
       "    }\n",
       "</style>\n",
       "<table border=\"1\" class=\"dataframe\">\n",
       "  <thead>\n",
       "    <tr style=\"text-align: right;\">\n",
       "      <th></th>\n",
       "      <th>Rating</th>\n",
       "      <th>rating_counts</th>\n",
       "    </tr>\n",
       "    <tr>\n",
       "      <th>productId</th>\n",
       "      <th></th>\n",
       "      <th></th>\n",
       "    </tr>\n",
       "  </thead>\n",
       "  <tbody>\n",
       "    <tr>\n",
       "      <th>0972683275</th>\n",
       "      <td>4.470980</td>\n",
       "      <td>1051</td>\n",
       "    </tr>\n",
       "    <tr>\n",
       "      <th>1400501466</th>\n",
       "      <td>3.560000</td>\n",
       "      <td>250</td>\n",
       "    </tr>\n",
       "    <tr>\n",
       "      <th>1400501520</th>\n",
       "      <td>4.243902</td>\n",
       "      <td>82</td>\n",
       "    </tr>\n",
       "    <tr>\n",
       "      <th>1400501776</th>\n",
       "      <td>3.884892</td>\n",
       "      <td>139</td>\n",
       "    </tr>\n",
       "    <tr>\n",
       "      <th>1400532620</th>\n",
       "      <td>3.684211</td>\n",
       "      <td>171</td>\n",
       "    </tr>\n",
       "  </tbody>\n",
       "</table>\n",
       "</div>"
      ],
      "text/plain": [
       "              Rating  rating_counts\n",
       "productId                          \n",
       "0972683275  4.470980           1051\n",
       "1400501466  3.560000            250\n",
       "1400501520  4.243902             82\n",
       "1400501776  3.884892            139\n",
       "1400532620  3.684211            171"
      ]
     },
     "execution_count": 29,
     "metadata": {},
     "output_type": "execute_result"
    }
   ],
   "source": [
    "ratings_mean_count.head()"
   ]
  },
  {
   "cell_type": "code",
   "execution_count": 30,
   "metadata": {},
   "outputs": [
    {
     "data": {
      "text/plain": [
       "9487"
      ]
     },
     "execution_count": 30,
     "metadata": {},
     "output_type": "execute_result"
    }
   ],
   "source": [
    "ratings_mean_count['rating_counts'].max()"
   ]
  },
  {
   "cell_type": "code",
   "execution_count": 31,
   "metadata": {},
   "outputs": [
    {
     "data": {
      "text/html": [
       "<div>\n",
       "<style scoped>\n",
       "    .dataframe tbody tr th:only-of-type {\n",
       "        vertical-align: middle;\n",
       "    }\n",
       "\n",
       "    .dataframe tbody tr th {\n",
       "        vertical-align: top;\n",
       "    }\n",
       "\n",
       "    .dataframe thead th {\n",
       "        text-align: right;\n",
       "    }\n",
       "</style>\n",
       "<table border=\"1\" class=\"dataframe\">\n",
       "  <thead>\n",
       "    <tr style=\"text-align: right;\">\n",
       "      <th></th>\n",
       "      <th>Rating</th>\n",
       "      <th>rating_counts</th>\n",
       "    </tr>\n",
       "    <tr>\n",
       "      <th>productId</th>\n",
       "      <th></th>\n",
       "      <th></th>\n",
       "    </tr>\n",
       "  </thead>\n",
       "  <tbody>\n",
       "    <tr>\n",
       "      <th>0972683275</th>\n",
       "      <td>4.470980</td>\n",
       "      <td>1051</td>\n",
       "    </tr>\n",
       "    <tr>\n",
       "      <th>1400501466</th>\n",
       "      <td>3.560000</td>\n",
       "      <td>250</td>\n",
       "    </tr>\n",
       "    <tr>\n",
       "      <th>1400501520</th>\n",
       "      <td>4.243902</td>\n",
       "      <td>82</td>\n",
       "    </tr>\n",
       "    <tr>\n",
       "      <th>1400501776</th>\n",
       "      <td>3.884892</td>\n",
       "      <td>139</td>\n",
       "    </tr>\n",
       "    <tr>\n",
       "      <th>1400532620</th>\n",
       "      <td>3.684211</td>\n",
       "      <td>171</td>\n",
       "    </tr>\n",
       "    <tr>\n",
       "      <th>...</th>\n",
       "      <td>...</td>\n",
       "      <td>...</td>\n",
       "    </tr>\n",
       "    <tr>\n",
       "      <th>B000IEN8QQ</th>\n",
       "      <td>4.531250</td>\n",
       "      <td>64</td>\n",
       "    </tr>\n",
       "    <tr>\n",
       "      <th>B000IEO964</th>\n",
       "      <td>4.533333</td>\n",
       "      <td>60</td>\n",
       "    </tr>\n",
       "    <tr>\n",
       "      <th>B000IF4788</th>\n",
       "      <td>4.189810</td>\n",
       "      <td>1001</td>\n",
       "    </tr>\n",
       "    <tr>\n",
       "      <th>B000IF4TPY</th>\n",
       "      <td>4.211538</td>\n",
       "      <td>156</td>\n",
       "    </tr>\n",
       "    <tr>\n",
       "      <th>B000IF51UQ</th>\n",
       "      <td>3.969697</td>\n",
       "      <td>66</td>\n",
       "    </tr>\n",
       "  </tbody>\n",
       "</table>\n",
       "<p>3813 rows × 2 columns</p>\n",
       "</div>"
      ],
      "text/plain": [
       "              Rating  rating_counts\n",
       "productId                          \n",
       "0972683275  4.470980           1051\n",
       "1400501466  3.560000            250\n",
       "1400501520  4.243902             82\n",
       "1400501776  3.884892            139\n",
       "1400532620  3.684211            171\n",
       "...              ...            ...\n",
       "B000IEN8QQ  4.531250             64\n",
       "B000IEO964  4.533333             60\n",
       "B000IF4788  4.189810           1001\n",
       "B000IF4TPY  4.211538            156\n",
       "B000IF51UQ  3.969697             66\n",
       "\n",
       "[3813 rows x 2 columns]"
      ]
     },
     "execution_count": 31,
     "metadata": {},
     "output_type": "execute_result"
    }
   ],
   "source": [
    "ratings_mean_count"
   ]
  },
  {
   "cell_type": "code",
   "execution_count": 32,
   "metadata": {},
   "outputs": [
    {
     "data": {
      "text/plain": [
       "<Figure size 576x432 with 0 Axes>"
      ]
     },
     "execution_count": 32,
     "metadata": {},
     "output_type": "execute_result"
    },
    {
     "data": {
      "text/plain": [
       "<matplotlib.axes._subplots.AxesSubplot at 0x11f810f7f08>"
      ]
     },
     "execution_count": 32,
     "metadata": {},
     "output_type": "execute_result"
    },
    {
     "data": {
      "image/png": "[encoded data removed]",
      "text/plain": [
       "<Figure size 576x432 with 1 Axes>"
      ]
     },
     "metadata": {
      "needs_background": "light"
     },
     "output_type": "display_data"
    }
   ],
   "source": [
    "plt.figure(figsize=(8,6))\n",
    "plt.rcParams['patch.force_edgecolor'] = True\n",
    "ratings_mean_count['rating_counts'].hist(bins=50)"
   ]
  },
  {
   "cell_type": "code",
   "execution_count": 33,
   "metadata": {},
   "outputs": [
    {
     "data": {
      "text/plain": [
       "<Figure size 576x432 with 0 Axes>"
      ]
     },
     "execution_count": 33,
     "metadata": {},
     "output_type": "execute_result"
    },
    {
     "data": {
      "text/plain": [
       "<matplotlib.axes._subplots.AxesSubplot at 0x11f811ef188>"
      ]
     },
     "execution_count": 33,
     "metadata": {},
     "output_type": "execute_result"
    },
    {
     "data": {
      "image/png": "[encoded data removed]",
      "text/plain": [
       "<Figure size 576x432 with 1 Axes>"
      ]
     },
     "metadata": {
      "needs_background": "light"
     },
     "output_type": "display_data"
    }
   ],
   "source": [
    "plt.figure(figsize=(8,6))\n",
    "plt.rcParams['patch.force_edgecolor'] = True\n",
    "ratings_mean_count['Rating'].hist(bins=50)"
   ]
  },
  {
   "cell_type": "code",
   "execution_count": 34,
   "metadata": {},
   "outputs": [
    {
     "data": {
      "text/plain": [
       "<Figure size 576x432 with 0 Axes>"
      ]
     },
     "execution_count": 34,
     "metadata": {},
     "output_type": "execute_result"
    },
    {
     "data": {
      "text/plain": [
       "<seaborn.axisgrid.JointGrid at 0x11f812bde08>"
      ]
     },
     "execution_count": 34,
     "metadata": {},
     "output_type": "execute_result"
    },
    {
     "data": {
      "text/plain": [
       "<Figure size 576x432 with 0 Axes>"
      ]
     },
     "metadata": {},
     "output_type": "display_data"
    },
    {
     "data": {
      "image/png": "[encoded data removed]",
      "text/plain": [
       "<Figure size 432x432 with 3 Axes>"
      ]
     },
     "metadata": {
      "needs_background": "light"
     },
     "output_type": "display_data"
    }
   ],
   "source": [
    "plt.figure(figsize=(8,6))\n",
    "plt.rcParams['patch.force_edgecolor'] = True\n",
    "sns.jointplot(x='Rating', y='rating_counts', data=ratings_mean_count, alpha=0.4)"
   ]
  },
  {
   "cell_type": "code",
   "execution_count": 35,
   "metadata": {},
   "outputs": [
    {
     "data": {
      "text/plain": [
       "<matplotlib.axes._subplots.AxesSubplot at 0x11f81efbf88>"
      ]
     },
     "execution_count": 35,
     "metadata": {},
     "output_type": "execute_result"
    },
    {
     "data": {
      "image/png": "[encoded data removed]",
      "text/plain": [
       "<Figure size 432x288 with 1 Axes>"
      ]
     },
     "metadata": {
      "needs_background": "light"
     },
     "output_type": "display_data"
    }
   ],
   "source": [
    "popular_products = pd.DataFrame(new_df.groupby('productId')['Rating'].count())\n",
    "most_popular = popular_products.sort_values('Rating', ascending=False)\n",
    "most_popular.head(30).plot(kind = \"bar\")"
   ]
  },
  {
   "cell_type": "markdown",
   "metadata": {},
   "source": [
    "Collaberative filtering (Item-Item recommedation)"
   ]
  },
  {
   "cell_type": "code",
   "execution_count": 36,
   "metadata": {},
   "outputs": [
    {
     "ename": "ModuleNotFoundError",
     "evalue": "No module named 'surprise'",
     "output_type": "error",
     "traceback": [
      "\u001b[1;31m---------------------------------------------------------------------------\u001b[0m",
      "\u001b[1;31mModuleNotFoundError\u001b[0m                       Traceback (most recent call last)",
      "\u001b[1;32m<ipython-input-36-32b3e4ec62b3>\u001b[0m in \u001b[0;36m<module>\u001b[1;34m\u001b[0m\n\u001b[1;32m----> 1\u001b[1;33m \u001b[1;32mfrom\u001b[0m \u001b[0msurprise\u001b[0m \u001b[1;32mimport\u001b[0m \u001b[0mKNNWithMeans\u001b[0m\u001b[1;33m\u001b[0m\u001b[1;33m\u001b[0m\u001b[0m\n\u001b[0m\u001b[0;32m      2\u001b[0m \u001b[1;32mfrom\u001b[0m \u001b[0msurprise\u001b[0m \u001b[1;32mimport\u001b[0m \u001b[0mDataset\u001b[0m\u001b[1;33m\u001b[0m\u001b[1;33m\u001b[0m\u001b[0m\n\u001b[0;32m      3\u001b[0m \u001b[1;32mfrom\u001b[0m \u001b[0msurprise\u001b[0m \u001b[1;32mimport\u001b[0m \u001b[0maccuracy\u001b[0m\u001b[1;33m\u001b[0m\u001b[1;33m\u001b[0m\u001b[0m\n\u001b[0;32m      4\u001b[0m \u001b[1;32mfrom\u001b[0m \u001b[0msurprise\u001b[0m \u001b[1;32mimport\u001b[0m \u001b[0mReader\u001b[0m\u001b[1;33m\u001b[0m\u001b[1;33m\u001b[0m\u001b[0m\n\u001b[0;32m      5\u001b[0m \u001b[1;32mimport\u001b[0m \u001b[0mos\u001b[0m\u001b[1;33m\u001b[0m\u001b[1;33m\u001b[0m\u001b[0m\n",
      "\u001b[1;31mModuleNotFoundError\u001b[0m: No module named 'surprise'"
     ]
    }
   ],
   "source": [
    "from surprise import KNNWithMeans\n",
    "from surprise import Dataset\n",
    "from surprise import accuracy\n",
    "from surprise import Reader\n",
    "import os\n",
    "from surprise.model_selection import train_test_split"
   ]
  },
  {
   "cell_type": "code",
   "execution_count": null,
   "metadata": {},
   "outputs": [],
   "source": [
    "!pip install scikit-surprise"
   ]
  },
  {
   "cell_type": "code",
   "execution_count": null,
   "metadata": {},
   "outputs": [],
   "source": [
    "#Reading the dataset\n",
    "reader = Reader(rating_scale=(1, 5))\n",
    "data = Dataset.load_from_df(new_df,reader)"
   ]
  },
  {
   "cell_type": "code",
   "execution_count": null,
   "metadata": {},
   "outputs": [],
   "source": [
    "#Splitting the dataset\n",
    "trainset, testset = train_test_split(data, test_size=0.3,random_state=10)"
   ]
  },
  {
   "cell_type": "code",
   "execution_count": null,
   "metadata": {},
   "outputs": [],
   "source": [
    "# Use user_based true/false to switch between user-based or item-based collaborative filtering\n",
    "algo = KNNWithMeans(k=5, sim_options={'name': 'pearson_baseline', 'user_based': False})\n",
    "algo.fit(trainset)"
   ]
  },
  {
   "cell_type": "code",
   "execution_count": null,
   "metadata": {},
   "outputs": [],
   "source": [
    "# run the trained model against the testset\n",
    "test_pred = algo.test(testset)"
   ]
  },
  {
   "cell_type": "code",
   "execution_count": null,
   "metadata": {},
   "outputs": [],
   "source": [
    "test_pred"
   ]
  },
  {
   "cell_type": "code",
   "execution_count": null,
   "metadata": {},
   "outputs": [],
   "source": [
    "# get RMSE\n",
    "print(\"Item-based Model : Test Set\")\n",
    "accuracy.rmse(test_pred, verbose=True)"
   ]
  },
  {
   "cell_type": "markdown",
   "metadata": {},
   "source": [
    "Model-based collaborative filtering system"
   ]
  },
  {
   "cell_type": "markdown",
   "metadata": {},
   "source": [
    "These methods are based on machine learning and data mining techniques. The goal is to train models to be able to make predictions. For example, we could use existing user-item interactions to train a model to predict the top-5 items that a user might like the most. One advantage of these methods is that they are able to recommend a larger number of items to a larger number of users, compared to other methods like memory based approach. They have large coverage, even when working with large sparse matrices."
   ]
  },
  {
   "cell_type": "code",
   "execution_count": 37,
   "metadata": {},
   "outputs": [
    {
     "data": {
      "text/html": [
       "<div>\n",
       "<style scoped>\n",
       "    .dataframe tbody tr th:only-of-type {\n",
       "        vertical-align: middle;\n",
       "    }\n",
       "\n",
       "    .dataframe tbody tr th {\n",
       "        vertical-align: top;\n",
       "    }\n",
       "\n",
       "    .dataframe thead th {\n",
       "        text-align: right;\n",
       "    }\n",
       "</style>\n",
       "<table border=\"1\" class=\"dataframe\">\n",
       "  <thead>\n",
       "    <tr style=\"text-align: right;\">\n",
       "      <th>productId</th>\n",
       "      <th>0972683275</th>\n",
       "      <th>1400501466</th>\n",
       "      <th>1400501520</th>\n",
       "      <th>1400501776</th>\n",
       "      <th>1400532620</th>\n",
       "      <th>1400532655</th>\n",
       "      <th>140053271X</th>\n",
       "      <th>1400532736</th>\n",
       "      <th>1400599997</th>\n",
       "      <th>1400698987</th>\n",
       "      <th>...</th>\n",
       "      <th>B00000JFMK</th>\n",
       "      <th>B00000JHWX</th>\n",
       "      <th>B00000JI4F</th>\n",
       "      <th>B00000JII6</th>\n",
       "      <th>B00000JMUG</th>\n",
       "      <th>B00000JPPI</th>\n",
       "      <th>B00000JSGF</th>\n",
       "      <th>B00000JYLO</th>\n",
       "      <th>B00000JYWQ</th>\n",
       "      <th>B00000K135</th>\n",
       "    </tr>\n",
       "    <tr>\n",
       "      <th>userId</th>\n",
       "      <th></th>\n",
       "      <th></th>\n",
       "      <th></th>\n",
       "      <th></th>\n",
       "      <th></th>\n",
       "      <th></th>\n",
       "      <th></th>\n",
       "      <th></th>\n",
       "      <th></th>\n",
       "      <th></th>\n",
       "      <th></th>\n",
       "      <th></th>\n",
       "      <th></th>\n",
       "      <th></th>\n",
       "      <th></th>\n",
       "      <th></th>\n",
       "      <th></th>\n",
       "      <th></th>\n",
       "      <th></th>\n",
       "      <th></th>\n",
       "      <th></th>\n",
       "    </tr>\n",
       "  </thead>\n",
       "  <tbody>\n",
       "    <tr>\n",
       "      <th>A01852072Z7B68UHLI5UG</th>\n",
       "      <td>0</td>\n",
       "      <td>0</td>\n",
       "      <td>0</td>\n",
       "      <td>0</td>\n",
       "      <td>0</td>\n",
       "      <td>0</td>\n",
       "      <td>0</td>\n",
       "      <td>0</td>\n",
       "      <td>0</td>\n",
       "      <td>0</td>\n",
       "      <td>...</td>\n",
       "      <td>0</td>\n",
       "      <td>0</td>\n",
       "      <td>0</td>\n",
       "      <td>0</td>\n",
       "      <td>0</td>\n",
       "      <td>0</td>\n",
       "      <td>0</td>\n",
       "      <td>0</td>\n",
       "      <td>0</td>\n",
       "      <td>0</td>\n",
       "    </tr>\n",
       "    <tr>\n",
       "      <th>A0266076X6KPZ6CCHGVS</th>\n",
       "      <td>0</td>\n",
       "      <td>0</td>\n",
       "      <td>0</td>\n",
       "      <td>0</td>\n",
       "      <td>0</td>\n",
       "      <td>0</td>\n",
       "      <td>0</td>\n",
       "      <td>0</td>\n",
       "      <td>0</td>\n",
       "      <td>0</td>\n",
       "      <td>...</td>\n",
       "      <td>0</td>\n",
       "      <td>0</td>\n",
       "      <td>0</td>\n",
       "      <td>0</td>\n",
       "      <td>0</td>\n",
       "      <td>0</td>\n",
       "      <td>0</td>\n",
       "      <td>0</td>\n",
       "      <td>0</td>\n",
       "      <td>0</td>\n",
       "    </tr>\n",
       "    <tr>\n",
       "      <th>A0293130VTX2ZXA70JQS</th>\n",
       "      <td>5</td>\n",
       "      <td>0</td>\n",
       "      <td>0</td>\n",
       "      <td>0</td>\n",
       "      <td>0</td>\n",
       "      <td>0</td>\n",
       "      <td>0</td>\n",
       "      <td>0</td>\n",
       "      <td>0</td>\n",
       "      <td>0</td>\n",
       "      <td>...</td>\n",
       "      <td>0</td>\n",
       "      <td>0</td>\n",
       "      <td>0</td>\n",
       "      <td>0</td>\n",
       "      <td>0</td>\n",
       "      <td>0</td>\n",
       "      <td>0</td>\n",
       "      <td>0</td>\n",
       "      <td>0</td>\n",
       "      <td>0</td>\n",
       "    </tr>\n",
       "    <tr>\n",
       "      <th>A030530627MK66BD8V4LN</th>\n",
       "      <td>4</td>\n",
       "      <td>0</td>\n",
       "      <td>0</td>\n",
       "      <td>0</td>\n",
       "      <td>0</td>\n",
       "      <td>0</td>\n",
       "      <td>0</td>\n",
       "      <td>0</td>\n",
       "      <td>0</td>\n",
       "      <td>0</td>\n",
       "      <td>...</td>\n",
       "      <td>0</td>\n",
       "      <td>0</td>\n",
       "      <td>0</td>\n",
       "      <td>0</td>\n",
       "      <td>0</td>\n",
       "      <td>0</td>\n",
       "      <td>0</td>\n",
       "      <td>0</td>\n",
       "      <td>0</td>\n",
       "      <td>0</td>\n",
       "    </tr>\n",
       "    <tr>\n",
       "      <th>A0571176384K8RBNKGF8O</th>\n",
       "      <td>0</td>\n",
       "      <td>0</td>\n",
       "      <td>0</td>\n",
       "      <td>0</td>\n",
       "      <td>0</td>\n",
       "      <td>0</td>\n",
       "      <td>0</td>\n",
       "      <td>0</td>\n",
       "      <td>0</td>\n",
       "      <td>0</td>\n",
       "      <td>...</td>\n",
       "      <td>0</td>\n",
       "      <td>0</td>\n",
       "      <td>0</td>\n",
       "      <td>0</td>\n",
       "      <td>0</td>\n",
       "      <td>0</td>\n",
       "      <td>0</td>\n",
       "      <td>0</td>\n",
       "      <td>0</td>\n",
       "      <td>0</td>\n",
       "    </tr>\n",
       "  </tbody>\n",
       "</table>\n",
       "<p>5 rows × 76 columns</p>\n",
       "</div>"
      ],
      "text/plain": [
       "productId              0972683275  1400501466  1400501520  1400501776  \\\n",
       "userId                                                                  \n",
       "A01852072Z7B68UHLI5UG           0           0           0           0   \n",
       "A0266076X6KPZ6CCHGVS            0           0           0           0   \n",
       "A0293130VTX2ZXA70JQS            5           0           0           0   \n",
       "A030530627MK66BD8V4LN           4           0           0           0   \n",
       "A0571176384K8RBNKGF8O           0           0           0           0   \n",
       "\n",
       "productId              1400532620  1400532655  140053271X  1400532736  \\\n",
       "userId                                                                  \n",
       "A01852072Z7B68UHLI5UG           0           0           0           0   \n",
       "A0266076X6KPZ6CCHGVS            0           0           0           0   \n",
       "A0293130VTX2ZXA70JQS            0           0           0           0   \n",
       "A030530627MK66BD8V4LN           0           0           0           0   \n",
       "A0571176384K8RBNKGF8O           0           0           0           0   \n",
       "\n",
       "productId              1400599997  1400698987  ...  B00000JFMK  B00000JHWX  \\\n",
       "userId                                         ...                           \n",
       "A01852072Z7B68UHLI5UG           0           0  ...           0           0   \n",
       "A0266076X6KPZ6CCHGVS            0           0  ...           0           0   \n",
       "A0293130VTX2ZXA70JQS            0           0  ...           0           0   \n",
       "A030530627MK66BD8V4LN           0           0  ...           0           0   \n",
       "A0571176384K8RBNKGF8O           0           0  ...           0           0   \n",
       "\n",
       "productId              B00000JI4F  B00000JII6  B00000JMUG  B00000JPPI  \\\n",
       "userId                                                                  \n",
       "A01852072Z7B68UHLI5UG           0           0           0           0   \n",
       "A0266076X6KPZ6CCHGVS            0           0           0           0   \n",
       "A0293130VTX2ZXA70JQS            0           0           0           0   \n",
       "A030530627MK66BD8V4LN           0           0           0           0   \n",
       "A0571176384K8RBNKGF8O           0           0           0           0   \n",
       "\n",
       "productId              B00000JSGF  B00000JYLO  B00000JYWQ  B00000K135  \n",
       "userId                                                                 \n",
       "A01852072Z7B68UHLI5UG           0           0           0           0  \n",
       "A0266076X6KPZ6CCHGVS            0           0           0           0  \n",
       "A0293130VTX2ZXA70JQS            0           0           0           0  \n",
       "A030530627MK66BD8V4LN           0           0           0           0  \n",
       "A0571176384K8RBNKGF8O           0           0           0           0  \n",
       "\n",
       "[5 rows x 76 columns]"
      ]
     },
     "execution_count": 37,
     "metadata": {},
     "output_type": "execute_result"
    }
   ],
   "source": [
    "new_df1=new_df.head(10000)\n",
    "ratings_matrix = new_df1.pivot_table(values='Rating', index='userId', columns='productId', fill_value=0)\n",
    "ratings_matrix.head()"
   ]
  },
  {
   "cell_type": "code",
   "execution_count": 38,
   "metadata": {},
   "outputs": [
    {
     "data": {
      "text/plain": [
       "(9832, 76)"
      ]
     },
     "execution_count": 38,
     "metadata": {},
     "output_type": "execute_result"
    }
   ],
   "source": [
    "ratings_matrix.shape"
   ]
  },
  {
   "cell_type": "code",
   "execution_count": 39,
   "metadata": {},
   "outputs": [
    {
     "data": {
      "text/html": [
       "<div>\n",
       "<style scoped>\n",
       "    .dataframe tbody tr th:only-of-type {\n",
       "        vertical-align: middle;\n",
       "    }\n",
       "\n",
       "    .dataframe tbody tr th {\n",
       "        vertical-align: top;\n",
       "    }\n",
       "\n",
       "    .dataframe thead th {\n",
       "        text-align: right;\n",
       "    }\n",
       "</style>\n",
       "<table border=\"1\" class=\"dataframe\">\n",
       "  <thead>\n",
       "    <tr style=\"text-align: right;\">\n",
       "      <th>userId</th>\n",
       "      <th>A01852072Z7B68UHLI5UG</th>\n",
       "      <th>A0266076X6KPZ6CCHGVS</th>\n",
       "      <th>A0293130VTX2ZXA70JQS</th>\n",
       "      <th>A030530627MK66BD8V4LN</th>\n",
       "      <th>A0571176384K8RBNKGF8O</th>\n",
       "      <th>A0590501PZ7HOWJKBGQ4</th>\n",
       "      <th>A0641581307AKT5MAOU0Q</th>\n",
       "      <th>A076219533YHEV2LJO988</th>\n",
       "      <th>A0821988FXKFYX53V4QG</th>\n",
       "      <th>A099626739FNCRNHIKBCG</th>\n",
       "      <th>...</th>\n",
       "      <th>AZWOPBY75SGAM</th>\n",
       "      <th>AZX0ZDVAFMN78</th>\n",
       "      <th>AZX5LAN9JEAFF</th>\n",
       "      <th>AZX7I110AF0W2</th>\n",
       "      <th>AZXKUK895VGSM</th>\n",
       "      <th>AZXP46IB63PU8</th>\n",
       "      <th>AZYTSU42BZ7TP</th>\n",
       "      <th>AZZGJ2KMWB7R</th>\n",
       "      <th>AZZMV5VT9W7Y8</th>\n",
       "      <th>AZZST8OYL5P4Q</th>\n",
       "    </tr>\n",
       "    <tr>\n",
       "      <th>productId</th>\n",
       "      <th></th>\n",
       "      <th></th>\n",
       "      <th></th>\n",
       "      <th></th>\n",
       "      <th></th>\n",
       "      <th></th>\n",
       "      <th></th>\n",
       "      <th></th>\n",
       "      <th></th>\n",
       "      <th></th>\n",
       "      <th></th>\n",
       "      <th></th>\n",
       "      <th></th>\n",
       "      <th></th>\n",
       "      <th></th>\n",
       "      <th></th>\n",
       "      <th></th>\n",
       "      <th></th>\n",
       "      <th></th>\n",
       "      <th></th>\n",
       "      <th></th>\n",
       "    </tr>\n",
       "  </thead>\n",
       "  <tbody>\n",
       "    <tr>\n",
       "      <th>0972683275</th>\n",
       "      <td>0</td>\n",
       "      <td>0</td>\n",
       "      <td>5</td>\n",
       "      <td>4</td>\n",
       "      <td>0</td>\n",
       "      <td>0</td>\n",
       "      <td>0</td>\n",
       "      <td>0</td>\n",
       "      <td>0</td>\n",
       "      <td>0</td>\n",
       "      <td>...</td>\n",
       "      <td>0</td>\n",
       "      <td>0</td>\n",
       "      <td>0</td>\n",
       "      <td>0</td>\n",
       "      <td>0</td>\n",
       "      <td>0</td>\n",
       "      <td>0</td>\n",
       "      <td>0</td>\n",
       "      <td>0</td>\n",
       "      <td>0</td>\n",
       "    </tr>\n",
       "    <tr>\n",
       "      <th>1400501466</th>\n",
       "      <td>0</td>\n",
       "      <td>0</td>\n",
       "      <td>0</td>\n",
       "      <td>0</td>\n",
       "      <td>0</td>\n",
       "      <td>0</td>\n",
       "      <td>0</td>\n",
       "      <td>0</td>\n",
       "      <td>0</td>\n",
       "      <td>0</td>\n",
       "      <td>...</td>\n",
       "      <td>0</td>\n",
       "      <td>0</td>\n",
       "      <td>0</td>\n",
       "      <td>0</td>\n",
       "      <td>0</td>\n",
       "      <td>0</td>\n",
       "      <td>0</td>\n",
       "      <td>0</td>\n",
       "      <td>0</td>\n",
       "      <td>0</td>\n",
       "    </tr>\n",
       "    <tr>\n",
       "      <th>1400501520</th>\n",
       "      <td>0</td>\n",
       "      <td>0</td>\n",
       "      <td>0</td>\n",
       "      <td>0</td>\n",
       "      <td>0</td>\n",
       "      <td>0</td>\n",
       "      <td>0</td>\n",
       "      <td>0</td>\n",
       "      <td>0</td>\n",
       "      <td>3</td>\n",
       "      <td>...</td>\n",
       "      <td>0</td>\n",
       "      <td>0</td>\n",
       "      <td>0</td>\n",
       "      <td>0</td>\n",
       "      <td>0</td>\n",
       "      <td>0</td>\n",
       "      <td>0</td>\n",
       "      <td>0</td>\n",
       "      <td>0</td>\n",
       "      <td>0</td>\n",
       "    </tr>\n",
       "    <tr>\n",
       "      <th>1400501776</th>\n",
       "      <td>0</td>\n",
       "      <td>0</td>\n",
       "      <td>0</td>\n",
       "      <td>0</td>\n",
       "      <td>0</td>\n",
       "      <td>0</td>\n",
       "      <td>0</td>\n",
       "      <td>0</td>\n",
       "      <td>0</td>\n",
       "      <td>0</td>\n",
       "      <td>...</td>\n",
       "      <td>0</td>\n",
       "      <td>0</td>\n",
       "      <td>0</td>\n",
       "      <td>0</td>\n",
       "      <td>0</td>\n",
       "      <td>0</td>\n",
       "      <td>0</td>\n",
       "      <td>0</td>\n",
       "      <td>1</td>\n",
       "      <td>0</td>\n",
       "    </tr>\n",
       "    <tr>\n",
       "      <th>1400532620</th>\n",
       "      <td>0</td>\n",
       "      <td>0</td>\n",
       "      <td>0</td>\n",
       "      <td>0</td>\n",
       "      <td>0</td>\n",
       "      <td>0</td>\n",
       "      <td>0</td>\n",
       "      <td>0</td>\n",
       "      <td>0</td>\n",
       "      <td>0</td>\n",
       "      <td>...</td>\n",
       "      <td>0</td>\n",
       "      <td>0</td>\n",
       "      <td>0</td>\n",
       "      <td>0</td>\n",
       "      <td>0</td>\n",
       "      <td>0</td>\n",
       "      <td>0</td>\n",
       "      <td>0</td>\n",
       "      <td>0</td>\n",
       "      <td>0</td>\n",
       "    </tr>\n",
       "  </tbody>\n",
       "</table>\n",
       "<p>5 rows × 9832 columns</p>\n",
       "</div>"
      ],
      "text/plain": [
       "userId      A01852072Z7B68UHLI5UG  A0266076X6KPZ6CCHGVS  A0293130VTX2ZXA70JQS  \\\n",
       "productId                                                                       \n",
       "0972683275                      0                     0                     5   \n",
       "1400501466                      0                     0                     0   \n",
       "1400501520                      0                     0                     0   \n",
       "1400501776                      0                     0                     0   \n",
       "1400532620                      0                     0                     0   \n",
       "\n",
       "userId      A030530627MK66BD8V4LN  A0571176384K8RBNKGF8O  \\\n",
       "productId                                                  \n",
       "0972683275                      4                      0   \n",
       "1400501466                      0                      0   \n",
       "1400501520                      0                      0   \n",
       "1400501776                      0                      0   \n",
       "1400532620                      0                      0   \n",
       "\n",
       "userId      A0590501PZ7HOWJKBGQ4  A0641581307AKT5MAOU0Q  \\\n",
       "productId                                                 \n",
       "0972683275                     0                      0   \n",
       "1400501466                     0                      0   \n",
       "1400501520                     0                      0   \n",
       "1400501776                     0                      0   \n",
       "1400532620                     0                      0   \n",
       "\n",
       "userId      A076219533YHEV2LJO988  A0821988FXKFYX53V4QG  \\\n",
       "productId                                                 \n",
       "0972683275                      0                     0   \n",
       "1400501466                      0                     0   \n",
       "1400501520                      0                     0   \n",
       "1400501776                      0                     0   \n",
       "1400532620                      0                     0   \n",
       "\n",
       "userId      A099626739FNCRNHIKBCG  ...  AZWOPBY75SGAM  AZX0ZDVAFMN78  \\\n",
       "productId                          ...                                 \n",
       "0972683275                      0  ...              0              0   \n",
       "1400501466                      0  ...              0              0   \n",
       "1400501520                      3  ...              0              0   \n",
       "1400501776                      0  ...              0              0   \n",
       "1400532620                      0  ...              0              0   \n",
       "\n",
       "userId      AZX5LAN9JEAFF  AZX7I110AF0W2  AZXKUK895VGSM  AZXP46IB63PU8  \\\n",
       "productId                                                                \n",
       "0972683275              0              0              0              0   \n",
       "1400501466              0              0              0              0   \n",
       "1400501520              0              0              0              0   \n",
       "1400501776              0              0              0              0   \n",
       "1400532620              0              0              0              0   \n",
       "\n",
       "userId      AZYTSU42BZ7TP  AZZGJ2KMWB7R  AZZMV5VT9W7Y8  AZZST8OYL5P4Q  \n",
       "productId                                                              \n",
       "0972683275              0             0              0              0  \n",
       "1400501466              0             0              0              0  \n",
       "1400501520              0             0              0              0  \n",
       "1400501776              0             0              1              0  \n",
       "1400532620              0             0              0              0  \n",
       "\n",
       "[5 rows x 9832 columns]"
      ]
     },
     "execution_count": 39,
     "metadata": {},
     "output_type": "execute_result"
    }
   ],
   "source": [
    "X = ratings_matrix.T\n",
    "X.head()"
   ]
  },
  {
   "cell_type": "code",
   "execution_count": 40,
   "metadata": {},
   "outputs": [
    {
     "data": {
      "text/plain": [
       "(76, 9832)"
      ]
     },
     "execution_count": 40,
     "metadata": {},
     "output_type": "execute_result"
    }
   ],
   "source": [
    "X.shape"
   ]
  },
  {
   "cell_type": "code",
   "execution_count": 54,
   "metadata": {},
   "outputs": [
    {
     "data": {
      "text/plain": [
       "Index(['0972683275', '1400501466', '1400501520', '1400501776', '1400532620',\n",
       "       '1400532655', '140053271X', '1400532736', '1400599997', '1400698987',\n",
       "       '3744295508', '6301977173', '7214047977', '8862935293', '9573212919',\n",
       "       '9575871979', '9625993428', '9888002198', '9966694544', '9983891212',\n",
       "       '9984984354', '9985511476', 'B000001OM4', 'B000001OM5', 'B000001OMI',\n",
       "       'B000001ON6', 'B00000DM9W', 'B00000IGBF', 'B00000J05A', 'B00000J061',\n",
       "       'B00000J08Q', 'B00000J0D2', 'B00000J0D5', 'B00000J0D8', 'B00000J1EJ',\n",
       "       'B00000J1EP', 'B00000J1EQ', 'B00000J1F3', 'B00000J1GA', 'B00000J1QK',\n",
       "       'B00000J1QR', 'B00000J1SC', 'B00000J1TX', 'B00000J1U8', 'B00000J1UQ',\n",
       "       'B00000J1V3', 'B00000J1V5', 'B00000J3NF', 'B00000J3Q7', 'B00000J3UJ',\n",
       "       'B00000J434', 'B00000J4EY', 'B00000J4FS', 'B00000J4GE', 'B00000J6WY',\n",
       "       'B00000JBAT', 'B00000JBHP', 'B00000JBPB', 'B00000JCT8', 'B00000JCTO',\n",
       "       'B00000JD34', 'B00000JDF5', 'B00000JDF6', 'B00000JDHV', 'B00000JFE3',\n",
       "       'B00000JFIF', 'B00000JFMK', 'B00000JHWX', 'B00000JI4F', 'B00000JII6',\n",
       "       'B00000JMUG', 'B00000JPPI', 'B00000JSGF', 'B00000JYLO', 'B00000JYWQ',\n",
       "       'B00000K135'],\n",
       "      dtype='object', name='productId')"
      ]
     },
     "execution_count": 54,
     "metadata": {},
     "output_type": "execute_result"
    }
   ],
   "source": [
    "X.index"
   ]
  },
  {
   "cell_type": "code",
   "execution_count": 41,
   "metadata": {},
   "outputs": [
    {
     "data": {
      "text/plain": [
       "(76, 10)"
      ]
     },
     "execution_count": 41,
     "metadata": {},
     "output_type": "execute_result"
    }
   ],
   "source": [
    "#Decomposing the Matrix\n",
    "from sklearn.decomposition import TruncatedSVD\n",
    "SVD = TruncatedSVD(n_components=10)\n",
    "decomposed_matrix = SVD.fit_transform(X)\n",
    "decomposed_matrix.shape"
   ]
  },
  {
   "cell_type": "code",
   "execution_count": 42,
   "metadata": {},
   "outputs": [
    {
     "data": {
      "text/plain": [
       "array([[ 1.48104508e+02, -1.54595579e-01,  2.45474539e-02,\n",
       "         8.18018163e-05, -1.34183986e-01,  1.50151892e-04,\n",
       "         4.60712512e-02, -8.49656709e-05,  1.28668658e-03,\n",
       "        -8.31334934e-02],\n",
       "       [ 6.67534158e-04,  1.28214255e+00,  1.47878315e+00,\n",
       "         1.97849282e-01,  4.71135117e-03, -9.43303699e-04,\n",
       "         1.00885680e-02,  2.72511790e-02,  6.14513988e+01,\n",
       "        -2.87903757e-01],\n",
       "       [ 2.96426462e-05,  1.05547045e-01,  3.11504431e-01,\n",
       "         6.79639821e-03, -2.35636659e-03, -6.68888999e-03,\n",
       "         1.97505996e-02,  1.71901513e-02,  1.55284033e+00,\n",
       "        -2.00521955e-02],\n",
       "       [ 5.38110774e-04,  7.50963476e-01,  4.80103769e-01,\n",
       "        -7.60653292e-03,  1.63031382e-02, -4.87132754e-02,\n",
       "         1.60396853e-02, -7.51186998e-02,  3.90375728e+00,\n",
       "        -1.93313290e-01],\n",
       "       [ 5.07609297e-04,  7.93466754e-01,  1.05978672e+00,\n",
       "        -1.99008857e-02, -6.33859372e-03, -3.86901381e-02,\n",
       "         2.33578499e-03, -1.76283827e-01,  8.04126409e-01,\n",
       "        -2.57030236e-01],\n",
       "       [ 2.62251429e-01,  8.72500273e+01, -1.42210610e+01,\n",
       "        -9.82012219e-03,  2.03031715e-03,  4.97336015e-04,\n",
       "        -6.06532691e-03,  5.90942496e-04, -7.77497985e-01,\n",
       "         1.31240373e-03],\n",
       "       [ 1.02355453e-03,  1.45173174e+01,  8.52281169e+01,\n",
       "        -5.66193948e-02, -2.86099565e-02,  1.53587800e-03,\n",
       "        -1.27800313e-02,  5.04499588e-04, -1.24988852e+00,\n",
       "         1.23143511e-02],\n",
       "       [-1.77199042e-06,  6.24795953e-02,  4.05509977e-01,\n",
       "        -2.83962216e-03,  3.09068522e-03,  1.15853732e-03,\n",
       "        -5.58755025e-03,  3.63704622e-02,  2.10720443e-01,\n",
       "        -1.69675369e-01],\n",
       "       [ 5.44157883e-04,  7.74502277e-01, -9.78053742e-02,\n",
       "         8.39632987e-03,  6.50319579e-03, -2.24763944e-03,\n",
       "         7.72832537e-03, -9.93321016e-03,  2.88349243e+00,\n",
       "         8.94430113e-01],\n",
       "       [ 3.27224338e-04,  5.69989619e-01,  7.48567936e-01,\n",
       "         2.46252747e-02,  1.35796436e-01,  6.91576837e-02,\n",
       "         4.10118171e-01,  2.19581387e-01,  2.03091972e+00,\n",
       "        -3.56527472e-01],\n",
       "       [-1.24464989e-06, -9.04802489e-04, -3.22284107e-04,\n",
       "        -1.68420090e-03,  9.14888302e-04, -2.15647084e-03,\n",
       "        -5.17335705e-04,  1.15074570e-02, -7.43335679e-03,\n",
       "        -8.15105665e-02],\n",
       "       [ 9.31544968e-07, -3.85043332e-03, -9.17306704e-04,\n",
       "        -2.97874195e-03, -8.44615926e-04, -4.19812431e-03,\n",
       "         4.23404329e-03, -3.48013538e-03, -6.02045357e-02,\n",
       "        -8.92119637e-02],\n",
       "       [ 1.81987624e-05,  2.27389539e-02, -1.20781321e-03,\n",
       "         2.25600746e-02, -5.09729743e-03, -5.48826438e-02,\n",
       "         3.34029501e-02, -3.29395407e-01,  5.65823080e-01,\n",
       "        -8.26823275e-01],\n",
       "       [ 5.30409827e-06,  1.70399347e-03,  1.55763382e-03,\n",
       "         2.78017236e-03, -1.26282362e-03,  4.41620095e-03,\n",
       "         6.86620629e-03, -2.53272560e-02,  2.12824091e-02,\n",
       "         1.41500651e-01],\n",
       "       [-6.68009945e-07, -4.28385891e-03,  8.44911879e-03,\n",
       "        -9.50485283e-03, -3.12654134e-03,  1.11191316e-02,\n",
       "        -1.16186428e-02,  1.67349866e-01, -4.08153764e-01,\n",
       "        -1.46223003e+00],\n",
       "       [ 9.01080047e-06,  3.81123567e-03,  1.02472695e-02,\n",
       "        -4.64272415e-03,  1.90636716e-03, -5.99849742e-03,\n",
       "         3.11280773e-03, -4.13413440e-02,  1.56235385e-01,\n",
       "        -6.32428900e-02],\n",
       "       [-1.12956619e-05, -1.79642977e-03,  4.65485411e-03,\n",
       "         3.63457865e-03,  1.51380831e-03, -4.28720265e-03,\n",
       "        -3.27844253e-02, -8.32838550e-02, -8.52764945e-02,\n",
       "        -4.12756166e-02],\n",
       "       [ 5.17924886e-06,  1.55505877e-03,  9.56448936e-04,\n",
       "         2.03114291e-03, -1.03037782e-03,  3.00759663e-03,\n",
       "        -2.55506796e-04, -7.34695341e-03,  6.76167155e-02,\n",
       "         7.95997547e-02],\n",
       "       [-2.50459610e-07,  5.21204998e-04,  4.24241603e-04,\n",
       "         7.26442423e-04, -3.93787469e-05,  1.37170371e-03,\n",
       "        -9.59379920e-04,  3.24041574e-03,  2.13712746e-02,\n",
       "         1.25636120e-02],\n",
       "       [ 2.02706522e-01, -1.18338343e-03,  5.75223955e-03,\n",
       "        -4.41274639e-03, -5.39923254e-03, -2.28417617e-03,\n",
       "        -1.33050213e-02, -1.77565815e-02,  3.08809546e-01,\n",
       "         6.03652615e+01],\n",
       "       [ 2.02051170e-09,  4.67965085e-04,  1.85842845e-04,\n",
       "         2.90692541e-04, -2.18563696e-04,  1.23423387e-03,\n",
       "        -5.87314278e-04, -1.86262789e-03,  5.26624514e-03,\n",
       "         2.35469980e-02],\n",
       "       [ 2.49678698e-06,  1.79415872e-03,  8.88718157e-04,\n",
       "         2.64085074e-03,  1.81454873e-03,  8.55173079e-03,\n",
       "        -4.57420846e-03,  1.21328630e-02, -7.50164041e-02,\n",
       "         7.61568867e-02],\n",
       "       [ 7.29242227e-06, -1.14420166e-03,  7.13104804e-03,\n",
       "         9.71577124e-04, -3.94903956e-03,  5.42527723e-03,\n",
       "        -3.52405829e-03, -7.91174984e-02,  2.33091114e-01,\n",
       "         2.28675637e-01],\n",
       "       [ 1.86404493e-01, -1.00663078e-02, -1.14040667e-02,\n",
       "        -1.56342265e-02,  3.89908355e-01, -5.39654511e-02,\n",
       "        -1.40325281e-01,  8.64196516e-02, -5.02048744e-01,\n",
       "         3.82955944e-01],\n",
       "       [-2.31614145e-07,  3.10607518e-04,  5.31230606e-04,\n",
       "         6.53925159e-03,  8.15844511e-05,  1.08392414e-03,\n",
       "         6.96616872e-04,  4.44359224e-01,  6.64862199e-03,\n",
       "        -1.14196924e-02],\n",
       "       [ 4.15599676e-04,  5.24033262e-03,  8.23473468e-03,\n",
       "         2.07521904e-03, -3.15498789e-03,  6.28029490e-01,\n",
       "        -1.04474931e-02, -1.28679717e-02,  5.68908424e-01,\n",
       "        -1.29740616e-01],\n",
       "       [ 1.78219794e-07,  1.67306372e-02,  5.17211471e-02,\n",
       "         8.50827205e+01,  2.55279975e-02, -2.29956547e-02,\n",
       "         2.85766339e-04, -1.37373371e+00, -1.43668310e-01,\n",
       "         1.92091541e-03],\n",
       "       [-1.40679328e-06, -2.98658585e-04, -3.63393916e-04,\n",
       "        -5.51712115e-04,  2.07652681e-04, -1.58797119e-03,\n",
       "        -9.15565940e-06, -4.40005238e-03, -1.79419553e-02,\n",
       "        -7.90843724e-03],\n",
       "       [-7.91116910e-07, -4.51222090e-06, -2.27203770e-05,\n",
       "         1.39655055e-04,  1.17299077e-03,  2.89087073e-04,\n",
       "         4.90466950e-03, -8.92034500e-04, -7.65421353e-04,\n",
       "         1.68287617e-02],\n",
       "       [-7.59152276e-07,  3.28157506e-05,  4.89626803e-04,\n",
       "         1.69846025e+00,  6.27526220e-05,  3.64230792e-01,\n",
       "        -2.18021297e-03,  6.88033506e+01, -1.96487784e-02,\n",
       "         1.32700968e-02],\n",
       "       [-3.53213372e-07, -1.15154613e-04, -1.37837331e-04,\n",
       "         1.22631477e-04, -1.05493845e-05, -1.11379568e-04,\n",
       "         4.39429532e-04,  1.17073286e-03,  1.38847292e-03,\n",
       "        -5.57947873e-03],\n",
       "       [-6.70938655e-08, -2.84958542e-04,  5.35429030e-05,\n",
       "         7.87908767e-05,  1.32938006e-04,  1.83897480e-05,\n",
       "        -2.51658581e-04,  2.05869547e-03, -2.09290590e-02,\n",
       "        -1.22106005e-02],\n",
       "       [ 8.17317213e-07,  2.07571642e-04,  5.24099499e-04,\n",
       "         5.21961376e-04, -1.20178970e-04,  6.97043259e-04,\n",
       "        -8.76975167e-04, -2.81819133e-03,  5.83038975e-03,\n",
       "         1.38547560e-02],\n",
       "       [ 3.52368403e-09, -2.68318522e-06, -1.48646801e-08,\n",
       "         1.35795499e-06, -7.19407407e-07, -2.48140213e-06,\n",
       "        -2.59921608e-06, -1.55683751e-05, -7.37773860e-05,\n",
       "        -2.07011227e-04],\n",
       "       [ 1.56402422e-07, -1.19703013e-04, -9.66122808e-05,\n",
       "        -1.57470828e-04,  3.85488660e-04,  4.22210223e-04,\n",
       "         1.36283644e-03,  7.30033335e-03, -1.28800591e-02,\n",
       "        -3.05503288e-02],\n",
       "       [-4.05061074e-06, -2.54568264e-03,  8.67026892e-04,\n",
       "        -3.97682571e-04,  8.07533096e-04, -3.06940370e-03,\n",
       "        -8.05197384e-03, -6.23682609e-02, -9.75097657e-02,\n",
       "        -1.36552806e-01],\n",
       "       [-4.54783347e-05, -5.30649452e-03, -9.25150540e-03,\n",
       "         7.06722586e-03,  1.93152474e-02, -1.67873565e-03,\n",
       "         3.36232408e-02,  2.25722894e-01, -1.27420548e+00,\n",
       "         6.37695078e-01],\n",
       "       [-1.76986034e-07,  5.71744557e-05, -2.13102101e-04,\n",
       "         3.01561937e-04,  4.35080226e-04,  7.81825374e-03,\n",
       "         8.86463574e-04,  3.13695040e-03, -2.85905884e-02,\n",
       "         2.99047205e-02],\n",
       "       [ 2.34711798e-04, -2.92930690e-05,  5.10582360e-04,\n",
       "        -5.58098918e-04,  2.41928169e-01,  1.49954947e-03,\n",
       "        -1.11249518e-01, -7.81508807e-04,  1.12265160e-02,\n",
       "        -3.09446768e-02],\n",
       "       [-1.66455844e-05, -7.08783192e-03,  1.11657686e-02,\n",
       "         1.28184734e-02,  4.53092373e-03,  6.79461633e-03,\n",
       "        -5.91430148e-02, -6.40437283e-02, -7.05423539e-01,\n",
       "        -1.09181739e+00],\n",
       "       [ 2.32791470e-04,  2.53050170e-04, -4.61060842e-04,\n",
       "         5.61919549e-04,  1.11938105e-01, -1.79214532e-03,\n",
       "         3.09903210e-01, -1.70309384e-02,  1.09873891e-03,\n",
       "         1.29525529e-01],\n",
       "       [ 6.76980876e-05,  1.43238314e-02, -6.41888636e-03,\n",
       "         1.21681399e-02,  3.11262597e-03,  2.00528258e-02,\n",
       "         4.31883288e-02,  7.46876478e-02,  7.96170792e-01,\n",
       "         9.01542839e-01],\n",
       "       [ 4.00172027e-06, -3.93019627e-04,  2.35887408e-02,\n",
       "        -1.28668059e-02, -2.16163374e-02,  3.27971790e-02,\n",
       "        -3.66013209e-02, -4.20875535e-03,  7.62320903e-01,\n",
       "        -1.66696712e-01],\n",
       "       [ 3.99315243e-07,  5.21454760e-04, -1.34001969e-03,\n",
       "         3.44735219e-04,  3.68699915e-05, -4.52814414e-04,\n",
       "        -4.39618143e-05, -8.77365021e-04,  4.97191308e-03,\n",
       "         2.90603500e-02],\n",
       "       [-1.30977232e-04, -1.44945103e-02, -7.90153783e-03,\n",
       "        -6.86672004e-03, -7.69227925e-03, -3.39490941e-03,\n",
       "        -3.57634777e-02, -2.35965347e-01, -2.73561037e-01,\n",
       "         1.25135358e+00],\n",
       "       [ 1.45381075e-06, -5.07294911e-03, -2.19304370e-02,\n",
       "         1.35130190e-03, -3.22122010e-04, -2.85529279e-02,\n",
       "        -1.39446546e-02,  3.48925499e-02,  8.32388309e-02,\n",
       "         2.68036574e-01],\n",
       "       [ 2.49016380e-01, -8.30323158e-04,  2.19985519e-02,\n",
       "        -2.29596910e-02,  7.85352241e+01, -5.03549979e-02,\n",
       "        -2.94090941e+01,  2.90464826e-04, -4.19314924e-03,\n",
       "         2.37851134e-02],\n",
       "       [ 3.36945178e-06, -2.65522731e-04, -2.81434269e-04,\n",
       "         5.00935448e-04,  1.38058490e-03, -9.22384634e-04,\n",
       "         9.37845174e-03,  1.90795788e-03,  2.34811142e-03,\n",
       "        -1.06676707e-02],\n",
       "       [-7.24723102e-06, -1.20812306e-03, -1.48373840e-03,\n",
       "         4.89598690e-03,  1.23748362e-03, -3.48900661e-03,\n",
       "        -1.55603185e-03,  4.09102925e-01, -1.44128635e-01,\n",
       "        -1.37169954e-01],\n",
       "       [-1.18388168e-07, -9.91503155e-05,  5.70195761e-05,\n",
       "         2.19069187e-04,  5.31528283e-05, -4.52208055e-04,\n",
       "        -3.49377322e-04, -9.72252816e-04,  2.23869778e-02,\n",
       "         4.16234531e-03],\n",
       "       [-1.42500184e-05, -4.06491681e-03, -3.86239940e-03,\n",
       "        -6.38729721e-03,  4.33656569e-03, -1.52279291e-02,\n",
       "         8.45974317e-03, -3.37732328e-02, -1.19323760e-01,\n",
       "        -7.54445911e-02],\n",
       "       [-8.75477503e-06, -4.78742109e-03,  5.70532336e-03,\n",
       "         5.51784714e-04,  7.10901280e-03,  7.48034119e-03,\n",
       "        -8.86319069e-03,  6.05239835e-02, -4.28123809e-01,\n",
       "        -2.99123786e-01],\n",
       "       [-6.94993611e-05, -1.94288834e-02, -2.03579076e-02,\n",
       "        -2.88504503e-02,  1.47529648e-02, -7.68821751e-02,\n",
       "         1.50082661e-02, -1.89670030e-01, -5.40413935e-01,\n",
       "        -2.67558776e-01],\n",
       "       [ 1.79258983e-04, -1.18293011e-02, -3.19460504e-03,\n",
       "        -7.45926327e-03, -1.45432137e-04, -2.31032772e-02,\n",
       "        -3.51044221e-03, -2.03285323e-01,  2.71476184e-01,\n",
       "         1.08753718e-01],\n",
       "       [-2.02164259e-07, -6.48047472e-04, -1.92255179e-03,\n",
       "        -2.29465522e-03, -1.18765590e-03, -3.77644156e-03,\n",
       "        -7.64891790e-04, -2.46953500e-02,  1.12721993e-01,\n",
       "         1.58121530e-01],\n",
       "       [ 3.64399939e-06,  6.45161811e-03,  3.43313846e-03,\n",
       "         1.71726647e-02, -4.18535403e-03,  1.48798008e-02,\n",
       "        -1.07337162e-02, -2.74118926e-02, -9.53415826e-02,\n",
       "         4.83208536e-01],\n",
       "       [-7.21860918e-07, -1.39801032e-04, -8.54029771e-04,\n",
       "        -5.39070814e-04, -1.08889710e-04, -4.60372317e-04,\n",
       "         1.32110035e-03, -1.53469277e-03,  8.61160542e-03,\n",
       "         3.23891706e-02],\n",
       "       [-1.75220064e-07, -1.63890993e-04, -2.47732354e-05,\n",
       "         5.29596039e-03, -6.86301194e-05,  8.18541153e-04,\n",
       "         6.87861318e-05,  3.59349780e-01,  1.59370940e-03,\n",
       "        -7.50324603e-03],\n",
       "       [ 1.18609582e-06,  6.69763898e-04,  7.62074621e-04,\n",
       "         7.74857907e-04, -8.15655170e-04,  2.04740507e-03,\n",
       "        -2.19659409e-03, -3.32230858e-04,  4.33190347e-02,\n",
       "         2.90325359e-02],\n",
       "       [-1.30081818e-06,  2.70000462e-03,  7.88810900e-04,\n",
       "         1.93284183e-03, -1.33500038e-03,  2.86807321e-03,\n",
       "         2.33637374e-03,  2.19753774e-02,  1.53169382e-01,\n",
       "         3.73636005e-02],\n",
       "       [ 5.37720523e-07,  1.20568808e-03,  1.80356617e-03,\n",
       "        -1.54229758e-04,  8.61203445e-04,  1.57740587e-03,\n",
       "         2.12413010e-03,  1.26293034e-02,  3.50361792e-03,\n",
       "         5.20614286e-02],\n",
       "       [ 7.47920361e-03,  5.86869103e-03,  1.82065712e-02,\n",
       "        -1.00160707e-02,  3.25888879e+01,  4.53014571e-03,\n",
       "         7.08447184e+01, -2.46816275e-04, -3.23444041e-02,\n",
       "         3.41929245e-02],\n",
       "       [ 6.55206642e-04, -3.51870233e-03,  3.88898609e-02,\n",
       "        -4.51157924e-02,  1.09115559e+00,  4.96741789e-01,\n",
       "         5.02202905e-01, -6.95576623e-02,  8.72667866e-01,\n",
       "        -2.69461049e+00],\n",
       "       [ 5.34453076e-07,  2.86526842e-04,  2.37433366e-04,\n",
       "         2.93271259e-04,  1.23249083e-03,  7.37377509e-04,\n",
       "         4.87609299e-03,  2.73013832e-03,  3.39986413e-03,\n",
       "         9.64205302e-03],\n",
       "       [-4.82393805e-08,  3.95385012e-05,  3.41500690e-06,\n",
       "         1.62116113e-05,  3.51713934e-05,  1.23652863e-04,\n",
       "         6.66184011e-05,  8.60295742e-05,  2.69207974e-03,\n",
       "         4.33150828e-03],\n",
       "       [ 3.21943377e-07,  6.96478246e-05, -5.94323299e-04,\n",
       "         2.60710990e-04,  3.05502907e-04, -4.32182923e-04,\n",
       "         2.18291990e-03, -5.64754334e-03, -9.42010784e-03,\n",
       "         2.29354952e-02],\n",
       "       [-9.94312960e-06, -2.48071539e-03,  1.17372395e-03,\n",
       "        -2.65974076e-03,  4.99615522e-03, -7.69112687e-03,\n",
       "         2.80955579e-03,  3.64956427e-02, -2.57320717e-01,\n",
       "        -3.37658753e-01],\n",
       "       [ 2.62525493e-06,  4.02271054e-04,  7.32074722e-04,\n",
       "        -5.55517886e-04,  3.96718119e-03,  2.26147730e-03,\n",
       "         9.22260475e-05,  3.71192472e-03, -1.21229611e-03,\n",
       "        -9.06503051e-02],\n",
       "       [ 1.15499113e-06, -4.65077009e-04, -1.67623111e-03,\n",
       "         1.67986648e-02,  4.06254307e-02,  8.05142104e+01,\n",
       "        -2.61864952e-02, -3.11913873e-01, -8.62502644e-03,\n",
       "         1.87978899e-02],\n",
       "       [-9.39259161e-08, -5.67527910e-05,  7.73010244e-05,\n",
       "        -6.38216443e-05, -9.51743562e-06, -5.05956583e-05,\n",
       "        -4.93659487e-05, -1.08159406e-03,  1.52857799e-03,\n",
       "         3.65929119e-04],\n",
       "       [-2.15401462e-07,  1.90883626e-05,  1.68005670e-05,\n",
       "        -2.80290983e-05, -5.66661406e-05, -4.62269656e-05,\n",
       "        -2.33530634e-05, -1.58101456e-04,  1.98622213e-03,\n",
       "        -2.06047628e-03],\n",
       "       [ 2.74674369e-07, -1.35715001e-05,  3.05102997e-05,\n",
       "        -5.23513816e-05, -3.04176856e-05,  1.75200043e-03,\n",
       "        -7.65989942e-05, -4.50625750e-04,  5.21452219e-03,\n",
       "        -5.44249995e-03],\n",
       "       [ 4.63325331e-05,  1.08838389e-02,  4.80560367e-03,\n",
       "         1.94099732e-02,  3.25804334e-01,  3.17548085e-02,\n",
       "         1.06589011e+00,  1.13575547e-01,  4.23665068e-02,\n",
       "         4.94911251e-01],\n",
       "       [ 1.79542449e-04,  2.64906149e-03,  1.49808022e-03,\n",
       "        -1.26987344e-04,  4.08943717e-03, -1.20367004e-03,\n",
       "         1.46507447e-03,  1.05737544e-02, -4.15289087e-02,\n",
       "        -1.85615837e-03],\n",
       "       [-4.69239216e-06, -1.11715505e-03,  8.57665898e-05,\n",
       "        -2.15109893e-03,  2.89399856e-03, -2.85394526e-03,\n",
       "         5.89418728e-03,  2.60526048e-02, -9.65971281e-02,\n",
       "        -1.46434394e-01],\n",
       "       [-3.88898695e-07,  7.94377037e-04, -1.61138673e-03,\n",
       "        -8.53226712e-05, -2.50419760e-04, -7.86484076e-05,\n",
       "         4.86888210e-03, -1.81364250e-03,  4.93978438e-02,\n",
       "         2.57476044e-02]])"
      ]
     },
     "execution_count": 42,
     "metadata": {},
     "output_type": "execute_result"
    }
   ],
   "source": [
    "decomposed_matrix"
   ]
  },
  {
   "cell_type": "code",
   "execution_count": 43,
   "metadata": {},
   "outputs": [
    {
     "data": {
      "text/plain": [
       "(76, 76)"
      ]
     },
     "execution_count": 43,
     "metadata": {},
     "output_type": "execute_result"
    }
   ],
   "source": [
    "#Correlation Matrix\n",
    "\n",
    "correlation_matrix = np.corrcoef(decomposed_matrix)\n",
    "correlation_matrix.shape"
   ]
  },
  {
   "cell_type": "code",
   "execution_count": 45,
   "metadata": {},
   "outputs": [
    {
     "data": {
      "text/plain": [
       "array([[ 1.        , -0.11626634, -0.14311663, ...,  0.06428376,\n",
       "         0.13781797, -0.16087703],\n",
       "       [-0.11626634,  1.        ,  0.98407713, ..., -0.96769784,\n",
       "        -0.47467751,  0.86576524],\n",
       "       [-0.14311663,  0.98407713,  1.        , ..., -0.94561524,\n",
       "        -0.43496   ,  0.82384076],\n",
       "       ...,\n",
       "       [ 0.06428376, -0.96769784, -0.94561524, ...,  1.        ,\n",
       "         0.58158673, -0.89781199],\n",
       "       [ 0.13781797, -0.47467751, -0.43496   , ...,  0.58158673,\n",
       "         1.        , -0.83584668],\n",
       "       [-0.16087703,  0.86576524,  0.82384076, ..., -0.89781199,\n",
       "        -0.83584668,  1.        ]])"
      ]
     },
     "execution_count": 45,
     "metadata": {},
     "output_type": "execute_result"
    }
   ],
   "source": [
    "correlation_matrix"
   ]
  },
  {
   "cell_type": "code",
   "execution_count": 57,
   "metadata": {},
   "outputs": [
    {
     "data": {
      "text/plain": [
       "array([-0.16087703,  0.86576524,  0.82384076,  0.80627854,  0.21887584,\n",
       "       -0.11715547, -0.23233094,  0.05052217,  0.94130193,  0.62633329,\n",
       "       -0.4692181 , -0.83460165,  0.22581099,  0.51897897, -0.62515683,\n",
       "        0.65386241, -0.64355628,  0.90210182,  0.97057108,  0.38179757,\n",
       "        0.57135244, -0.36399664,  0.92111536, -0.4653527 , -0.19887896,\n",
       "        0.41559231, -0.16081733, -0.95072262,  0.31063194, -0.20454819,\n",
       "       -0.1810265 , -0.99351979,  0.70512973, -0.66251666, -0.7178879 ,\n",
       "       -0.77678673, -0.6059373 , -0.35406477, -0.12714972, -0.83285906,\n",
       "        0.05030133,  0.91023576,  0.7486597 ,  0.53652878,  0.21351516,\n",
       "        0.6287799 , -0.13055801, -0.19384313, -0.54151513,  0.94666293,\n",
       "       -0.93256658, -0.98361676, -0.91544542,  0.87061704,  0.86221627,\n",
       "        0.19669321,  0.61641116, -0.20548351,  0.97946112,  0.94247672,\n",
       "        0.37732486, -0.12900155, -0.16249549,  0.55282772,  0.82127824,\n",
       "        0.0568571 , -0.87748301, -0.40447878, -0.16186238,  0.84944687,\n",
       "        0.33193949,  0.28309781,  0.06745571, -0.89781199, -0.83584668,\n",
       "        1.        ])"
      ]
     },
     "execution_count": 57,
     "metadata": {},
     "output_type": "execute_result"
    }
   ],
   "source": [
    "correlation_matrix[75]"
   ]
  },
  {
   "cell_type": "code",
   "execution_count": 44,
   "metadata": {},
   "outputs": [
    {
     "data": {
      "text/plain": [
       "'B00000K135'"
      ]
     },
     "execution_count": 44,
     "metadata": {},
     "output_type": "execute_result"
    }
   ],
   "source": [
    "X.index[75]"
   ]
  },
  {
   "cell_type": "code",
   "execution_count": 49,
   "metadata": {},
   "outputs": [
    {
     "data": {
      "text/plain": [
       "75"
      ]
     },
     "execution_count": 49,
     "metadata": {},
     "output_type": "execute_result"
    }
   ],
   "source": [
    "product_ID"
   ]
  },
  {
   "cell_type": "code",
   "execution_count": 50,
   "metadata": {},
   "outputs": [
    {
     "data": {
      "text/plain": [
       "75"
      ]
     },
     "execution_count": 50,
     "metadata": {},
     "output_type": "execute_result"
    }
   ],
   "source": [
    "i = \"B00000K135\"\n",
    "\n",
    "product_names = list(X.index)\n",
    "product_ID = product_names.index(i)\n",
    "product_ID"
   ]
  },
  {
   "cell_type": "code",
   "execution_count": 51,
   "metadata": {},
   "outputs": [
    {
     "data": {
      "text/plain": [
       "(76,)"
      ]
     },
     "execution_count": 51,
     "metadata": {},
     "output_type": "execute_result"
    }
   ],
   "source": [
    "correlation_product_ID = correlation_matrix[product_ID]\n",
    "correlation_product_ID.shape"
   ]
  },
  {
   "cell_type": "markdown",
   "metadata": {},
   "source": [
    "Correlation for all items with the item purchased by this customer based on items rated by other customers people who bought the same product"
   ]
  },
  {
   "cell_type": "code",
   "execution_count": 55,
   "metadata": {},
   "outputs": [
    {
     "data": {
      "text/plain": [
       "array([-0.16087703,  0.86576524,  0.82384076,  0.80627854,  0.21887584,\n",
       "       -0.11715547, -0.23233094,  0.05052217,  0.94130193,  0.62633329,\n",
       "       -0.4692181 , -0.83460165,  0.22581099,  0.51897897, -0.62515683,\n",
       "        0.65386241, -0.64355628,  0.90210182,  0.97057108,  0.38179757,\n",
       "        0.57135244, -0.36399664,  0.92111536, -0.4653527 , -0.19887896,\n",
       "        0.41559231, -0.16081733, -0.95072262,  0.31063194, -0.20454819,\n",
       "       -0.1810265 , -0.99351979,  0.70512973, -0.66251666, -0.7178879 ,\n",
       "       -0.77678673, -0.6059373 , -0.35406477, -0.12714972, -0.83285906,\n",
       "        0.05030133,  0.91023576,  0.7486597 ,  0.53652878,  0.21351516,\n",
       "        0.6287799 , -0.13055801, -0.19384313, -0.54151513,  0.94666293,\n",
       "       -0.93256658, -0.98361676, -0.91544542,  0.87061704,  0.86221627,\n",
       "        0.19669321,  0.61641116, -0.20548351,  0.97946112,  0.94247672,\n",
       "        0.37732486, -0.12900155, -0.16249549,  0.55282772,  0.82127824,\n",
       "        0.0568571 , -0.87748301, -0.40447878, -0.16186238,  0.84944687,\n",
       "        0.33193949,  0.28309781,  0.06745571, -0.89781199, -0.83584668,\n",
       "        1.        ])"
      ]
     },
     "execution_count": 55,
     "metadata": {},
     "output_type": "execute_result"
    }
   ],
   "source": [
    "correlation_product_ID"
   ]
  },
  {
   "cell_type": "code",
   "execution_count": 52,
   "metadata": {},
   "outputs": [
    {
     "data": {
      "text/plain": [
       "['1400501466',\n",
       " '1400501520',\n",
       " '1400501776',\n",
       " '1400599997',\n",
       " '9575871979',\n",
       " '9888002198',\n",
       " '9966694544',\n",
       " 'B000001OM4',\n",
       " 'B00000J0D5',\n",
       " 'B00000J1SC',\n",
       " 'B00000J1TX',\n",
       " 'B00000J3UJ',\n",
       " 'B00000J4GE',\n",
       " 'B00000J6WY',\n",
       " 'B00000JCT8',\n",
       " 'B00000JCTO',\n",
       " 'B00000JFE3',\n",
       " 'B00000JII6']"
      ]
     },
     "execution_count": 52,
     "metadata": {},
     "output_type": "execute_result"
    }
   ],
   "source": [
    "Recommend = list(X.index[correlation_product_ID > 0.65])\n",
    "\n",
    "# Removes the item already bought by the customer\n",
    "Recommend.remove(i) \n",
    "\n",
    "Recommend[0:24]"
   ]
  },
  {
   "cell_type": "code",
   "execution_count": null,
   "metadata": {},
   "outputs": [],
   "source": []
  },
  {
   "cell_type": "code",
   "execution_count": null,
   "metadata": {},
   "outputs": [],
   "source": []
  },
  {
   "cell_type": "code",
   "execution_count": null,
   "metadata": {},
   "outputs": [],
   "source": []
  },
  {
   "cell_type": "code",
   "execution_count": null,
   "metadata": {},
   "outputs": [],
   "source": []
  },
  {
   "cell_type": "code",
   "execution_count": null,
   "metadata": {},
   "outputs": [],
   "source": []
  },
  {
   "cell_type": "code",
   "execution_count": null,
   "metadata": {},
   "outputs": [],
   "source": []
  },
  {
   "cell_type": "code",
   "execution_count": null,
   "metadata": {},
   "outputs": [],
   "source": []
  },
  {
   "cell_type": "code",
   "execution_count": null,
   "metadata": {},
   "outputs": [],
   "source": []
  },
  {
   "cell_type": "code",
   "execution_count": null,
   "metadata": {},
   "outputs": [],
   "source": []
  },
  {
   "cell_type": "code",
   "execution_count": null,
   "metadata": {},
   "outputs": [],
   "source": []
  },
  {
   "cell_type": "code",
   "execution_count": null,
   "metadata": {},
   "outputs": [],
   "source": []
  },
  {
   "cell_type": "code",
   "execution_count": null,
   "metadata": {},
   "outputs": [],
   "source": []
  },
  {
   "cell_type": "code",
   "execution_count": null,
   "metadata": {},
   "outputs": [],
   "source": []
  },
  {
   "cell_type": "code",
   "execution_count": null,
   "metadata": {},
   "outputs": [],
   "source": []
  },
  {
   "cell_type": "code",
   "execution_count": null,
   "metadata": {},
   "outputs": [],
   "source": []
  },
  {
   "cell_type": "code",
   "execution_count": null,
   "metadata": {},
   "outputs": [],
   "source": []
  },
  {
   "cell_type": "code",
   "execution_count": null,
   "metadata": {},
   "outputs": [],
   "source": []
  }
 ],
 "metadata": {
  "kernelspec": {
   "display_name": "Python 3",
   "language": "python",
   "name": "python3"
  },
  "language_info": {
   "codemirror_mode": {
    "name": "ipython",
    "version": 3
   },
   "file_extension": ".py",
   "mimetype": "text/x-python",
   "name": "python",
   "nbconvert_exporter": "python",
   "pygments_lexer": "ipython3",
   "version": "3.7.4"
  },
  "orig_nbformat": 4
 },
 "nbformat": 4,
 "nbformat_minor": 2
}
